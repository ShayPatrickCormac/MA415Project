{
 "cells": [
  {
   "cell_type": "code",
   "execution_count": 1,
   "id": "51c98bfd",
   "metadata": {},
   "outputs": [],
   "source": [
    "import numpy as np\n",
    "import pandas as pd\n",
    "from sklearn.decomposition import PCA\n",
    "from sklearn.neighbors import KNeighborsClassifier\n",
    "from sklearn.model_selection import train_test_split\n",
    "import matplotlib.pyplot as plt"
   ]
  },
  {
   "cell_type": "code",
   "execution_count": 2,
   "id": "db862459",
   "metadata": {},
   "outputs": [
    {
     "data": {
      "text/plain": [
       "(583985, 22)"
      ]
     },
     "execution_count": 2,
     "metadata": {},
     "output_type": "execute_result"
    }
   ],
   "source": [
    "# Loads the data into a dataframe\n",
    "df = pd.read_csv('./data/Jan_2019_ontime.csv')\n",
    "df2 = pd.read_csv('./data/Jan_2020_ontime.csv')\n",
    "df.append(df2)\n",
    "df.shape"
   ]
  },
  {
   "cell_type": "code",
   "execution_count": 3,
   "id": "e18dec43",
   "metadata": {},
   "outputs": [
    {
     "name": "stdout",
     "output_type": "stream",
     "text": [
      "baseline acc 0.8140832527921437\n"
     ]
    }
   ],
   "source": [
    "# baseline\n",
    "df.ARR_DEL15.value_counts()\n",
    "base_acc = 460741 / (460741 + 105222)\n",
    "print('baseline acc', base_acc)"
   ]
  },
  {
   "cell_type": "code",
   "execution_count": 4,
   "id": "dfedff1c",
   "metadata": {},
   "outputs": [
    {
     "data": {
      "text/html": [
       "<div>\n",
       "<style scoped>\n",
       "    .dataframe tbody tr th:only-of-type {\n",
       "        vertical-align: middle;\n",
       "    }\n",
       "\n",
       "    .dataframe tbody tr th {\n",
       "        vertical-align: top;\n",
       "    }\n",
       "\n",
       "    .dataframe thead th {\n",
       "        text-align: right;\n",
       "    }\n",
       "</style>\n",
       "<table border=\"1\" class=\"dataframe\">\n",
       "  <thead>\n",
       "    <tr style=\"text-align: right;\">\n",
       "      <th></th>\n",
       "      <th>DAY_OF_MONTH</th>\n",
       "      <th>DAY_OF_WEEK</th>\n",
       "      <th>OP_CARRIER</th>\n",
       "      <th>TAIL_NUM</th>\n",
       "      <th>OP_CARRIER_FL_NUM</th>\n",
       "      <th>ORIGIN</th>\n",
       "      <th>DEST</th>\n",
       "      <th>DEP_TIME</th>\n",
       "      <th>ARR_DEL15</th>\n",
       "      <th>DISTANCE</th>\n",
       "    </tr>\n",
       "  </thead>\n",
       "  <tbody>\n",
       "    <tr>\n",
       "      <th>158559</th>\n",
       "      <td>9</td>\n",
       "      <td>3</td>\n",
       "      <td>DL</td>\n",
       "      <td>N808DN</td>\n",
       "      <td>953</td>\n",
       "      <td>PBI</td>\n",
       "      <td>ATL</td>\n",
       "      <td>641.0</td>\n",
       "      <td>0.0</td>\n",
       "      <td>545.0</td>\n",
       "    </tr>\n",
       "    <tr>\n",
       "      <th>103030</th>\n",
       "      <td>6</td>\n",
       "      <td>7</td>\n",
       "      <td>MQ</td>\n",
       "      <td>N834AE</td>\n",
       "      <td>3634</td>\n",
       "      <td>ORF</td>\n",
       "      <td>LGA</td>\n",
       "      <td>624.0</td>\n",
       "      <td>0.0</td>\n",
       "      <td>296.0</td>\n",
       "    </tr>\n",
       "    <tr>\n",
       "      <th>123179</th>\n",
       "      <td>7</td>\n",
       "      <td>1</td>\n",
       "      <td>OO</td>\n",
       "      <td>N902EV</td>\n",
       "      <td>3118</td>\n",
       "      <td>MKE</td>\n",
       "      <td>ORD</td>\n",
       "      <td>1007.0</td>\n",
       "      <td>0.0</td>\n",
       "      <td>67.0</td>\n",
       "    </tr>\n",
       "    <tr>\n",
       "      <th>368084</th>\n",
       "      <td>20</td>\n",
       "      <td>7</td>\n",
       "      <td>DL</td>\n",
       "      <td>N911DE</td>\n",
       "      <td>2021</td>\n",
       "      <td>DAY</td>\n",
       "      <td>ATL</td>\n",
       "      <td>1509.0</td>\n",
       "      <td>1.0</td>\n",
       "      <td>432.0</td>\n",
       "    </tr>\n",
       "    <tr>\n",
       "      <th>552005</th>\n",
       "      <td>30</td>\n",
       "      <td>3</td>\n",
       "      <td>WN</td>\n",
       "      <td>N8561Z</td>\n",
       "      <td>1212</td>\n",
       "      <td>IND</td>\n",
       "      <td>ATL</td>\n",
       "      <td>1701.0</td>\n",
       "      <td>0.0</td>\n",
       "      <td>432.0</td>\n",
       "    </tr>\n",
       "  </tbody>\n",
       "</table>\n",
       "</div>"
      ],
      "text/plain": [
       "        DAY_OF_MONTH  DAY_OF_WEEK OP_CARRIER TAIL_NUM  OP_CARRIER_FL_NUM  \\\n",
       "158559             9            3         DL   N808DN                953   \n",
       "103030             6            7         MQ   N834AE               3634   \n",
       "123179             7            1         OO   N902EV               3118   \n",
       "368084            20            7         DL   N911DE               2021   \n",
       "552005            30            3         WN   N8561Z               1212   \n",
       "\n",
       "       ORIGIN DEST  DEP_TIME  ARR_DEL15  DISTANCE  \n",
       "158559    PBI  ATL     641.0        0.0     545.0  \n",
       "103030    ORF  LGA     624.0        0.0     296.0  \n",
       "123179    MKE  ORD    1007.0        0.0      67.0  \n",
       "368084    DAY  ATL    1509.0        1.0     432.0  \n",
       "552005    IND  ATL    1701.0        0.0     432.0  "
      ]
     },
     "execution_count": 4,
     "metadata": {},
     "output_type": "execute_result"
    }
   ],
   "source": [
    "# Drops column with no data and reduces the data to just a small sample for establishing a baseline\n",
    "df = df.sample(frac=0.05)\n",
    "df = df.drop(['Unnamed: 21', 'OP_UNIQUE_CARRIER', 'ORIGIN_AIRPORT_ID','ORIGIN_AIRPORT_SEQ_ID', 'DEST_AIRPORT_ID', 'DEST_AIRPORT_SEQ_ID', 'OP_CARRIER_AIRLINE_ID',\n",
    "             'DEP_TIME_BLK', 'DEP_DEL15', 'ARR_TIME', 'CANCELLED', 'DIVERTED'], axis=1)\n",
    "df = df.dropna()\n",
    "df.head()"
   ]
  },
  {
   "cell_type": "code",
   "execution_count": 5,
   "id": "614f640b",
   "metadata": {},
   "outputs": [
    {
     "data": {
      "text/html": [
       "<div>\n",
       "<style scoped>\n",
       "    .dataframe tbody tr th:only-of-type {\n",
       "        vertical-align: middle;\n",
       "    }\n",
       "\n",
       "    .dataframe tbody tr th {\n",
       "        vertical-align: top;\n",
       "    }\n",
       "\n",
       "    .dataframe thead th {\n",
       "        text-align: right;\n",
       "    }\n",
       "</style>\n",
       "<table border=\"1\" class=\"dataframe\">\n",
       "  <thead>\n",
       "    <tr style=\"text-align: right;\">\n",
       "      <th></th>\n",
       "      <th>DAY_OF_MONTH</th>\n",
       "      <th>DAY_OF_WEEK</th>\n",
       "      <th>OP_CARRIER</th>\n",
       "      <th>TAIL_NUM</th>\n",
       "      <th>OP_CARRIER_FL_NUM</th>\n",
       "      <th>ORIGIN</th>\n",
       "      <th>DEST</th>\n",
       "      <th>DEP_TIME</th>\n",
       "      <th>DISTANCE</th>\n",
       "    </tr>\n",
       "  </thead>\n",
       "  <tbody>\n",
       "    <tr>\n",
       "      <th>158559</th>\n",
       "      <td>9</td>\n",
       "      <td>3</td>\n",
       "      <td>DL</td>\n",
       "      <td>N808DN</td>\n",
       "      <td>953</td>\n",
       "      <td>PBI</td>\n",
       "      <td>ATL</td>\n",
       "      <td>641.0</td>\n",
       "      <td>545.0</td>\n",
       "    </tr>\n",
       "    <tr>\n",
       "      <th>103030</th>\n",
       "      <td>6</td>\n",
       "      <td>7</td>\n",
       "      <td>MQ</td>\n",
       "      <td>N834AE</td>\n",
       "      <td>3634</td>\n",
       "      <td>ORF</td>\n",
       "      <td>LGA</td>\n",
       "      <td>624.0</td>\n",
       "      <td>296.0</td>\n",
       "    </tr>\n",
       "    <tr>\n",
       "      <th>123179</th>\n",
       "      <td>7</td>\n",
       "      <td>1</td>\n",
       "      <td>OO</td>\n",
       "      <td>N902EV</td>\n",
       "      <td>3118</td>\n",
       "      <td>MKE</td>\n",
       "      <td>ORD</td>\n",
       "      <td>1007.0</td>\n",
       "      <td>67.0</td>\n",
       "    </tr>\n",
       "    <tr>\n",
       "      <th>368084</th>\n",
       "      <td>20</td>\n",
       "      <td>7</td>\n",
       "      <td>DL</td>\n",
       "      <td>N911DE</td>\n",
       "      <td>2021</td>\n",
       "      <td>DAY</td>\n",
       "      <td>ATL</td>\n",
       "      <td>1509.0</td>\n",
       "      <td>432.0</td>\n",
       "    </tr>\n",
       "    <tr>\n",
       "      <th>552005</th>\n",
       "      <td>30</td>\n",
       "      <td>3</td>\n",
       "      <td>WN</td>\n",
       "      <td>N8561Z</td>\n",
       "      <td>1212</td>\n",
       "      <td>IND</td>\n",
       "      <td>ATL</td>\n",
       "      <td>1701.0</td>\n",
       "      <td>432.0</td>\n",
       "    </tr>\n",
       "  </tbody>\n",
       "</table>\n",
       "</div>"
      ],
      "text/plain": [
       "        DAY_OF_MONTH DAY_OF_WEEK OP_CARRIER TAIL_NUM OP_CARRIER_FL_NUM ORIGIN  \\\n",
       "158559             9           3         DL   N808DN               953    PBI   \n",
       "103030             6           7         MQ   N834AE              3634    ORF   \n",
       "123179             7           1         OO   N902EV              3118    MKE   \n",
       "368084            20           7         DL   N911DE              2021    DAY   \n",
       "552005            30           3         WN   N8561Z              1212    IND   \n",
       "\n",
       "       DEST  DEP_TIME  DISTANCE  \n",
       "158559  ATL     641.0     545.0  \n",
       "103030  LGA     624.0     296.0  \n",
       "123179  ORD    1007.0      67.0  \n",
       "368084  ATL    1509.0     432.0  \n",
       "552005  ATL    1701.0     432.0  "
      ]
     },
     "execution_count": 5,
     "metadata": {},
     "output_type": "execute_result"
    }
   ],
   "source": [
    "# Splits data into test and training sets\n",
    "X = df.drop('ARR_DEL15', axis=1)\n",
    "y = df.ARR_DEL15\n",
    "X.OP_CARRIER_FL_NUM = X.OP_CARRIER_FL_NUM.astype('category')\n",
    "X.DAY_OF_WEEK = X.DAY_OF_WEEK.astype('category')\n",
    "X.OP_CARRIER_FL_NUM = X.OP_CARRIER_FL_NUM.astype('category')\n",
    "X.head()"
   ]
  },
  {
   "cell_type": "code",
   "execution_count": 6,
   "id": "5cdac8f5",
   "metadata": {},
   "outputs": [
    {
     "data": {
      "text/html": [
       "<div>\n",
       "<style scoped>\n",
       "    .dataframe tbody tr th:only-of-type {\n",
       "        vertical-align: middle;\n",
       "    }\n",
       "\n",
       "    .dataframe tbody tr th {\n",
       "        vertical-align: top;\n",
       "    }\n",
       "\n",
       "    .dataframe thead th {\n",
       "        text-align: right;\n",
       "    }\n",
       "</style>\n",
       "<table border=\"1\" class=\"dataframe\">\n",
       "  <thead>\n",
       "    <tr style=\"text-align: right;\">\n",
       "      <th></th>\n",
       "      <th>DEP_TIME</th>\n",
       "      <th>DISTANCE</th>\n",
       "      <th>DAY_OF_MONTH</th>\n",
       "      <th>DAY_OF_WEEK_1</th>\n",
       "      <th>DAY_OF_WEEK_2</th>\n",
       "      <th>DAY_OF_WEEK_3</th>\n",
       "      <th>DAY_OF_WEEK_4</th>\n",
       "      <th>DAY_OF_WEEK_5</th>\n",
       "      <th>DAY_OF_WEEK_6</th>\n",
       "      <th>DAY_OF_WEEK_7</th>\n",
       "      <th>...</th>\n",
       "      <th>DEST_TYR</th>\n",
       "      <th>DEST_TYS</th>\n",
       "      <th>DEST_UIN</th>\n",
       "      <th>DEST_USA</th>\n",
       "      <th>DEST_VLD</th>\n",
       "      <th>DEST_VPS</th>\n",
       "      <th>DEST_WRG</th>\n",
       "      <th>DEST_XNA</th>\n",
       "      <th>DEST_YAK</th>\n",
       "      <th>DEST_YUM</th>\n",
       "    </tr>\n",
       "  </thead>\n",
       "  <tbody>\n",
       "    <tr>\n",
       "      <th>158559</th>\n",
       "      <td>641.0</td>\n",
       "      <td>545.0</td>\n",
       "      <td>9</td>\n",
       "      <td>0</td>\n",
       "      <td>0</td>\n",
       "      <td>1</td>\n",
       "      <td>0</td>\n",
       "      <td>0</td>\n",
       "      <td>0</td>\n",
       "      <td>0</td>\n",
       "      <td>...</td>\n",
       "      <td>0</td>\n",
       "      <td>0</td>\n",
       "      <td>0</td>\n",
       "      <td>0</td>\n",
       "      <td>0</td>\n",
       "      <td>0</td>\n",
       "      <td>0</td>\n",
       "      <td>0</td>\n",
       "      <td>0</td>\n",
       "      <td>0</td>\n",
       "    </tr>\n",
       "    <tr>\n",
       "      <th>103030</th>\n",
       "      <td>624.0</td>\n",
       "      <td>296.0</td>\n",
       "      <td>6</td>\n",
       "      <td>0</td>\n",
       "      <td>0</td>\n",
       "      <td>0</td>\n",
       "      <td>0</td>\n",
       "      <td>0</td>\n",
       "      <td>0</td>\n",
       "      <td>1</td>\n",
       "      <td>...</td>\n",
       "      <td>0</td>\n",
       "      <td>0</td>\n",
       "      <td>0</td>\n",
       "      <td>0</td>\n",
       "      <td>0</td>\n",
       "      <td>0</td>\n",
       "      <td>0</td>\n",
       "      <td>0</td>\n",
       "      <td>0</td>\n",
       "      <td>0</td>\n",
       "    </tr>\n",
       "    <tr>\n",
       "      <th>123179</th>\n",
       "      <td>1007.0</td>\n",
       "      <td>67.0</td>\n",
       "      <td>7</td>\n",
       "      <td>1</td>\n",
       "      <td>0</td>\n",
       "      <td>0</td>\n",
       "      <td>0</td>\n",
       "      <td>0</td>\n",
       "      <td>0</td>\n",
       "      <td>0</td>\n",
       "      <td>...</td>\n",
       "      <td>0</td>\n",
       "      <td>0</td>\n",
       "      <td>0</td>\n",
       "      <td>0</td>\n",
       "      <td>0</td>\n",
       "      <td>0</td>\n",
       "      <td>0</td>\n",
       "      <td>0</td>\n",
       "      <td>0</td>\n",
       "      <td>0</td>\n",
       "    </tr>\n",
       "    <tr>\n",
       "      <th>368084</th>\n",
       "      <td>1509.0</td>\n",
       "      <td>432.0</td>\n",
       "      <td>20</td>\n",
       "      <td>0</td>\n",
       "      <td>0</td>\n",
       "      <td>0</td>\n",
       "      <td>0</td>\n",
       "      <td>0</td>\n",
       "      <td>0</td>\n",
       "      <td>1</td>\n",
       "      <td>...</td>\n",
       "      <td>0</td>\n",
       "      <td>0</td>\n",
       "      <td>0</td>\n",
       "      <td>0</td>\n",
       "      <td>0</td>\n",
       "      <td>0</td>\n",
       "      <td>0</td>\n",
       "      <td>0</td>\n",
       "      <td>0</td>\n",
       "      <td>0</td>\n",
       "    </tr>\n",
       "    <tr>\n",
       "      <th>552005</th>\n",
       "      <td>1701.0</td>\n",
       "      <td>432.0</td>\n",
       "      <td>30</td>\n",
       "      <td>0</td>\n",
       "      <td>0</td>\n",
       "      <td>1</td>\n",
       "      <td>0</td>\n",
       "      <td>0</td>\n",
       "      <td>0</td>\n",
       "      <td>0</td>\n",
       "      <td>...</td>\n",
       "      <td>0</td>\n",
       "      <td>0</td>\n",
       "      <td>0</td>\n",
       "      <td>0</td>\n",
       "      <td>0</td>\n",
       "      <td>0</td>\n",
       "      <td>0</td>\n",
       "      <td>0</td>\n",
       "      <td>0</td>\n",
       "      <td>0</td>\n",
       "    </tr>\n",
       "  </tbody>\n",
       "</table>\n",
       "<p>5 rows × 11636 columns</p>\n",
       "</div>"
      ],
      "text/plain": [
       "        DEP_TIME  DISTANCE  DAY_OF_MONTH  DAY_OF_WEEK_1  DAY_OF_WEEK_2  \\\n",
       "158559     641.0     545.0             9              0              0   \n",
       "103030     624.0     296.0             6              0              0   \n",
       "123179    1007.0      67.0             7              1              0   \n",
       "368084    1509.0     432.0            20              0              0   \n",
       "552005    1701.0     432.0            30              0              0   \n",
       "\n",
       "        DAY_OF_WEEK_3  DAY_OF_WEEK_4  DAY_OF_WEEK_5  DAY_OF_WEEK_6  \\\n",
       "158559              1              0              0              0   \n",
       "103030              0              0              0              0   \n",
       "123179              0              0              0              0   \n",
       "368084              0              0              0              0   \n",
       "552005              1              0              0              0   \n",
       "\n",
       "        DAY_OF_WEEK_7  ...  DEST_TYR  DEST_TYS  DEST_UIN  DEST_USA  DEST_VLD  \\\n",
       "158559              0  ...         0         0         0         0         0   \n",
       "103030              1  ...         0         0         0         0         0   \n",
       "123179              0  ...         0         0         0         0         0   \n",
       "368084              1  ...         0         0         0         0         0   \n",
       "552005              0  ...         0         0         0         0         0   \n",
       "\n",
       "        DEST_VPS  DEST_WRG  DEST_XNA  DEST_YAK  DEST_YUM  \n",
       "158559         0         0         0         0         0  \n",
       "103030         0         0         0         0         0  \n",
       "123179         0         0         0         0         0  \n",
       "368084         0         0         0         0         0  \n",
       "552005         0         0         0         0         0  \n",
       "\n",
       "[5 rows x 11636 columns]"
      ]
     },
     "execution_count": 6,
     "metadata": {},
     "output_type": "execute_result"
    }
   ],
   "source": [
    "# One-hot-encodes categorical features and standardizes numerical features\n",
    "X_num = X[['DEP_TIME', 'DISTANCE']]\n",
    "# X_num = (X_num - X_num.mean())/X_num.std()\n",
    "X_cat = X.drop(['DEP_TIME', 'DISTANCE'], axis=1)\n",
    "X_cat = pd.get_dummies(X_cat)\n",
    "X = X_num.join(X_cat)\n",
    "X.head()"
   ]
  },
  {
   "cell_type": "code",
   "execution_count": 7,
   "id": "b4dddb5a",
   "metadata": {},
   "outputs": [],
   "source": [
    "X_train, X_test, y_train, y_test = train_test_split(X, y, test_size=0.2, random_state=0)"
   ]
  },
  {
   "cell_type": "code",
   "execution_count": 8,
   "id": "3869c81a",
   "metadata": {},
   "outputs": [
    {
     "data": {
      "text/plain": [
       "(5655, 2)"
      ]
     },
     "execution_count": 8,
     "metadata": {},
     "output_type": "execute_result"
    }
   ],
   "source": [
    "# PCA\n",
    "n_comp = 2\n",
    "pca = PCA(n_components=n_comp)\n",
    "pca.fit(X_train)\n",
    "Z = pca.transform(X_train)\n",
    "Z_test = pca.transform(X_test)\n",
    "Z.shape\n",
    "Z_test.shape"
   ]
  },
  {
   "cell_type": "code",
   "execution_count": 9,
   "id": "600f04e9",
   "metadata": {},
   "outputs": [
    {
     "data": {
      "text/plain": [
       "KNeighborsClassifier(n_jobs=-1)"
      ]
     },
     "execution_count": 9,
     "metadata": {},
     "output_type": "execute_result"
    }
   ],
   "source": [
    "knn = KNeighborsClassifier(n_jobs=-1)\n",
    "knn.fit(Z, y_train)"
   ]
  },
  {
   "cell_type": "code",
   "execution_count": 10,
   "id": "ed1ea5fe",
   "metadata": {},
   "outputs": [
    {
     "data": {
      "text/plain": [
       "0.8372905336693638"
      ]
     },
     "execution_count": 10,
     "metadata": {},
     "output_type": "execute_result"
    }
   ],
   "source": [
    "knn.score(Z, y_train)"
   ]
  },
  {
   "cell_type": "code",
   "execution_count": 11,
   "id": "3ce3abc6",
   "metadata": {},
   "outputs": [
    {
     "data": {
      "text/plain": [
       "0.7819628647214855"
      ]
     },
     "execution_count": 11,
     "metadata": {},
     "output_type": "execute_result"
    }
   ],
   "source": [
    "knn.score(Z_test, y_test)"
   ]
  },
  {
   "cell_type": "code",
   "execution_count": 12,
   "id": "4ff2b066",
   "metadata": {},
   "outputs": [],
   "source": [
    "# %load \"C:/Users/Zijian Huang/MA415/biplot.py\"\n",
    "def biplot(X,n_comp,j1,j2,scale=1,alpha=0.25,s=50):\n",
    "    \n",
    "    import numpy as np\n",
    "    import pandas as pd\n",
    "    from sklearn.decomposition import PCA\n",
    "    import matplotlib.pyplot as plt\n",
    "\n",
    "    #X = (X-X.mean())/X.std()\n",
    "    pca = PCA(n_components=n_comp)\n",
    "    pca.fit(X)\n",
    "    cols = ['PC-'+str(i+1) for i in range(n_comp)]\n",
    "    Z = pca.transform(X)\n",
    "    Z = pd.DataFrame(Z,columns=cols)\n",
    "    Z.plot.scatter(x=j1-1,y=j2-1,\n",
    "                   alpha=alpha,\n",
    "                   s=s,\n",
    "                   figsize=(10,10))\n",
    "    sd = np.sqrt(pca.explained_variance_)\n",
    "    Zj1 = sd[j1-1]*np.array([1,0])\n",
    "    Zj2 = sd[j2-1]*np.array([0,1])\n",
    "    plt.arrow(0,0,Zj1[0],Zj1[1],head_width=0.1,color='k')\n",
    "    plt.arrow(0,0,Zj2[0],Zj2[1],head_width=0.1,color='k')\n",
    "\n",
    "    L = pca.components_\n",
    "    L = pd.DataFrame(L,index=cols,columns=X.columns)\n",
    "    for k in range(X.shape[1]):\n",
    "        x = scale*L.iloc[j1-1,k]\n",
    "        y = scale*L.iloc[j2-1,k]\n",
    "        plt.arrow(0,0,x,y,head_width=0.1,color='r')\n",
    "        plt.text(1.2*x,1.2*y,X.columns[k],color='black')\n",
    "        plt.xlim([-3,3])\n",
    "        plt.ylim([-3,3])\n",
    "        \n",
    "    PVE = pca.explained_variance_ratio_\n",
    "    PVE = pd.Series(PVE,index=cols)\n",
    "    return PVE\n"
   ]
  },
  {
   "cell_type": "code",
   "execution_count": 13,
   "id": "52b020af",
   "metadata": {},
   "outputs": [
    {
     "data": {
      "image/png": "[encoded data removed]",
      "text/plain": [
       "<Figure size 720x720 with 1 Axes>"
      ]
     },
     "metadata": {
      "needs_background": "light"
     },
     "output_type": "display_data"
    }
   ],
   "source": [
    "PVE = biplot(X, 20, 1, 3, scale = 2.5, alpha = 0.5, s = 100)"
   ]
  },
  {
   "cell_type": "code",
   "execution_count": 14,
   "id": "cf35d7d4",
   "metadata": {},
   "outputs": [
    {
     "data": {
      "text/plain": [
       "<AxesSubplot:>"
      ]
     },
     "execution_count": 14,
     "metadata": {},
     "output_type": "execute_result"
    },
    {
     "data": {
      "image/png": "[encoded data removed]",
      "text/plain": [
       "<Figure size 432x288 with 1 Axes>"
      ]
     },
     "metadata": {
      "needs_background": "light"
     },
     "output_type": "display_data"
    }
   ],
   "source": [
    "PVE.sort_values().plot.barh()"
   ]
  },
  {
   "cell_type": "code",
   "execution_count": 15,
   "id": "f974a5ca",
   "metadata": {},
   "outputs": [
    {
     "data": {
      "text/plain": [
       "PC-1     5.934815e-01\n",
       "PC-2     4.063764e-01\n",
       "PC-3     1.327390e-04\n",
       "PC-4     3.012761e-07\n",
       "PC-5     2.779988e-07\n",
       "PC-6     2.661915e-07\n",
       "PC-7     2.509670e-07\n",
       "PC-8     2.430005e-07\n",
       "PC-9     2.257602e-07\n",
       "PC-10    2.142431e-07\n",
       "PC-11    2.032865e-07\n",
       "PC-12    1.804798e-07\n",
       "PC-13    1.577629e-07\n",
       "PC-14    1.158098e-07\n",
       "PC-15    9.349252e-08\n",
       "PC-16    9.139180e-08\n",
       "PC-17    8.087141e-08\n",
       "PC-18    7.605233e-08\n",
       "PC-19    7.527414e-08\n",
       "PC-20    7.029576e-08\n",
       "dtype: float64"
      ]
     },
     "execution_count": 15,
     "metadata": {},
     "output_type": "execute_result"
    }
   ],
   "source": [
    "PVE"
   ]
  },
  {
   "cell_type": "code",
   "execution_count": 104,
   "id": "08e3bac1",
   "metadata": {},
   "outputs": [
    {
     "data": {
      "text/html": [
       "<div>\n",
       "<style scoped>\n",
       "    .dataframe tbody tr th:only-of-type {\n",
       "        vertical-align: middle;\n",
       "    }\n",
       "\n",
       "    .dataframe tbody tr th {\n",
       "        vertical-align: top;\n",
       "    }\n",
       "\n",
       "    .dataframe thead th {\n",
       "        text-align: right;\n",
       "    }\n",
       "</style>\n",
       "<table border=\"1\" class=\"dataframe\">\n",
       "  <thead>\n",
       "    <tr style=\"text-align: right;\">\n",
       "      <th></th>\n",
       "      <th>DAY_OF_MONTH</th>\n",
       "      <th>DAY_OF_WEEK</th>\n",
       "      <th>OP_CARRIER</th>\n",
       "      <th>TAIL_NUM</th>\n",
       "      <th>OP_CARRIER_FL_NUM</th>\n",
       "      <th>ORIGIN</th>\n",
       "      <th>DEST</th>\n",
       "      <th>DEP_TIME</th>\n",
       "      <th>ARR_DEL15</th>\n",
       "      <th>DISTANCE</th>\n",
       "    </tr>\n",
       "  </thead>\n",
       "  <tbody>\n",
       "    <tr>\n",
       "      <th>262690</th>\n",
       "      <td>14</td>\n",
       "      <td>1</td>\n",
       "      <td>UA</td>\n",
       "      <td>N38727</td>\n",
       "      <td>1573</td>\n",
       "      <td>IAH</td>\n",
       "      <td>LGA</td>\n",
       "      <td>822</td>\n",
       "      <td>0.0</td>\n",
       "      <td>1416.0</td>\n",
       "    </tr>\n",
       "    <tr>\n",
       "      <th>11815</th>\n",
       "      <td>1</td>\n",
       "      <td>2</td>\n",
       "      <td>UA</td>\n",
       "      <td>N466UA</td>\n",
       "      <td>2255</td>\n",
       "      <td>TPA</td>\n",
       "      <td>IAH</td>\n",
       "      <td>1341</td>\n",
       "      <td>0.0</td>\n",
       "      <td>787.0</td>\n",
       "    </tr>\n",
       "    <tr>\n",
       "      <th>443741</th>\n",
       "      <td>24</td>\n",
       "      <td>4</td>\n",
       "      <td>WN</td>\n",
       "      <td>N717SA</td>\n",
       "      <td>402</td>\n",
       "      <td>MCO</td>\n",
       "      <td>PVD</td>\n",
       "      <td>1357</td>\n",
       "      <td>1.0</td>\n",
       "      <td>1072.0</td>\n",
       "    </tr>\n",
       "    <tr>\n",
       "      <th>497117</th>\n",
       "      <td>27</td>\n",
       "      <td>7</td>\n",
       "      <td>DL</td>\n",
       "      <td>N330NW</td>\n",
       "      <td>2321</td>\n",
       "      <td>PBI</td>\n",
       "      <td>LGA</td>\n",
       "      <td>1632</td>\n",
       "      <td>1.0</td>\n",
       "      <td>1035.0</td>\n",
       "    </tr>\n",
       "    <tr>\n",
       "      <th>356514</th>\n",
       "      <td>19</td>\n",
       "      <td>6</td>\n",
       "      <td>AS</td>\n",
       "      <td>N586AS</td>\n",
       "      <td>580</td>\n",
       "      <td>PDX</td>\n",
       "      <td>SNA</td>\n",
       "      <td>1223</td>\n",
       "      <td>0.0</td>\n",
       "      <td>859.0</td>\n",
       "    </tr>\n",
       "    <tr>\n",
       "      <th>...</th>\n",
       "      <td>...</td>\n",
       "      <td>...</td>\n",
       "      <td>...</td>\n",
       "      <td>...</td>\n",
       "      <td>...</td>\n",
       "      <td>...</td>\n",
       "      <td>...</td>\n",
       "      <td>...</td>\n",
       "      <td>...</td>\n",
       "      <td>...</td>\n",
       "    </tr>\n",
       "    <tr>\n",
       "      <th>541009</th>\n",
       "      <td>29</td>\n",
       "      <td>2</td>\n",
       "      <td>EV</td>\n",
       "      <td>N22909</td>\n",
       "      <td>4408</td>\n",
       "      <td>SAV</td>\n",
       "      <td>EWR</td>\n",
       "      <td>1849</td>\n",
       "      <td>0.0</td>\n",
       "      <td>708.0</td>\n",
       "    </tr>\n",
       "    <tr>\n",
       "      <th>362088</th>\n",
       "      <td>20</td>\n",
       "      <td>7</td>\n",
       "      <td>AS</td>\n",
       "      <td>N597AS</td>\n",
       "      <td>823</td>\n",
       "      <td>SEA</td>\n",
       "      <td>SMF</td>\n",
       "      <td>621</td>\n",
       "      <td>0.0</td>\n",
       "      <td>605.0</td>\n",
       "    </tr>\n",
       "    <tr>\n",
       "      <th>528844</th>\n",
       "      <td>29</td>\n",
       "      <td>2</td>\n",
       "      <td>AA</td>\n",
       "      <td>N913US</td>\n",
       "      <td>660</td>\n",
       "      <td>PHL</td>\n",
       "      <td>PHX</td>\n",
       "      <td>1517</td>\n",
       "      <td>0.0</td>\n",
       "      <td>2075.0</td>\n",
       "    </tr>\n",
       "    <tr>\n",
       "      <th>294430</th>\n",
       "      <td>16</td>\n",
       "      <td>3</td>\n",
       "      <td>DL</td>\n",
       "      <td>N971DL</td>\n",
       "      <td>1786</td>\n",
       "      <td>ICT</td>\n",
       "      <td>ATL</td>\n",
       "      <td>547</td>\n",
       "      <td>0.0</td>\n",
       "      <td>782.0</td>\n",
       "    </tr>\n",
       "    <tr>\n",
       "      <th>255187</th>\n",
       "      <td>14</td>\n",
       "      <td>1</td>\n",
       "      <td>OO</td>\n",
       "      <td>N256SY</td>\n",
       "      <td>3541</td>\n",
       "      <td>MKE</td>\n",
       "      <td>SEA</td>\n",
       "      <td>718</td>\n",
       "      <td>0.0</td>\n",
       "      <td>1694.0</td>\n",
       "    </tr>\n",
       "  </tbody>\n",
       "</table>\n",
       "<p>28298 rows × 10 columns</p>\n",
       "</div>"
      ],
      "text/plain": [
       "        DAY_OF_MONTH  DAY_OF_WEEK OP_CARRIER TAIL_NUM  OP_CARRIER_FL_NUM  \\\n",
       "262690            14            1         UA   N38727               1573   \n",
       "11815              1            2         UA   N466UA               2255   \n",
       "443741            24            4         WN   N717SA                402   \n",
       "497117            27            7         DL   N330NW               2321   \n",
       "356514            19            6         AS   N586AS                580   \n",
       "...              ...          ...        ...      ...                ...   \n",
       "541009            29            2         EV   N22909               4408   \n",
       "362088            20            7         AS   N597AS                823   \n",
       "528844            29            2         AA   N913US                660   \n",
       "294430            16            3         DL   N971DL               1786   \n",
       "255187            14            1         OO   N256SY               3541   \n",
       "\n",
       "       ORIGIN DEST DEP_TIME  ARR_DEL15  DISTANCE  \n",
       "262690    IAH  LGA      822        0.0    1416.0  \n",
       "11815     TPA  IAH     1341        0.0     787.0  \n",
       "443741    MCO  PVD     1357        1.0    1072.0  \n",
       "497117    PBI  LGA     1632        1.0    1035.0  \n",
       "356514    PDX  SNA     1223        0.0     859.0  \n",
       "...       ...  ...      ...        ...       ...  \n",
       "541009    SAV  EWR     1849        0.0     708.0  \n",
       "362088    SEA  SMF      621        0.0     605.0  \n",
       "528844    PHL  PHX     1517        0.0    2075.0  \n",
       "294430    ICT  ATL      547        0.0     782.0  \n",
       "255187    MKE  SEA      718        0.0    1694.0  \n",
       "\n",
       "[28298 rows x 10 columns]"
      ]
     },
     "execution_count": 104,
     "metadata": {},
     "output_type": "execute_result"
    }
   ],
   "source": [
    "df"
   ]
  },
  {
   "cell_type": "code",
   "execution_count": 262,
   "id": "cc356629",
   "metadata": {},
   "outputs": [
    {
     "data": {
      "text/plain": [
       "DAY_OF_MONTH               int64\n",
       "DAY_OF_WEEK                int64\n",
       "OP_UNIQUE_CARRIER         object\n",
       "OP_CARRIER_AIRLINE_ID      int64\n",
       "OP_CARRIER                object\n",
       "TAIL_NUM                  object\n",
       "OP_CARRIER_FL_NUM          int64\n",
       "ORIGIN_AIRPORT_ID          int64\n",
       "ORIGIN_AIRPORT_SEQ_ID      int64\n",
       "ORIGIN                    object\n",
       "DEST_AIRPORT_ID            int64\n",
       "DEST_AIRPORT_SEQ_ID        int64\n",
       "DEST                      object\n",
       "DEP_TIME                 float64\n",
       "DEP_DEL15                float64\n",
       "DEP_TIME_BLK              object\n",
       "ARR_TIME                 float64\n",
       "ARR_DEL15                float64\n",
       "CANCELLED                float64\n",
       "DIVERTED                 float64\n",
       "DISTANCE                 float64\n",
       "Unnamed: 21              float64\n",
       "dtype: object"
      ]
     },
     "execution_count": 262,
     "metadata": {},
     "output_type": "execute_result"
    }
   ],
   "source": [
    "df = pd.read_csv('./data/Jan_2019_ontime.csv')\n",
    "df2 = pd.read_csv('./data/Jan_2020_ontime.csv')\n",
    "df.dtypes"
   ]
  },
  {
   "cell_type": "code",
   "execution_count": 263,
   "id": "069e542b",
   "metadata": {},
   "outputs": [
    {
     "data": {
      "text/html": [
       "<div>\n",
       "<style scoped>\n",
       "    .dataframe tbody tr th:only-of-type {\n",
       "        vertical-align: middle;\n",
       "    }\n",
       "\n",
       "    .dataframe tbody tr th {\n",
       "        vertical-align: top;\n",
       "    }\n",
       "\n",
       "    .dataframe thead th {\n",
       "        text-align: right;\n",
       "    }\n",
       "</style>\n",
       "<table border=\"1\" class=\"dataframe\">\n",
       "  <thead>\n",
       "    <tr style=\"text-align: right;\">\n",
       "      <th></th>\n",
       "      <th>DAY_OF_MONTH</th>\n",
       "      <th>DAY_OF_WEEK</th>\n",
       "      <th>OP_CARRIER</th>\n",
       "      <th>TAIL_NUM</th>\n",
       "      <th>OP_CARRIER_FL_NUM</th>\n",
       "      <th>ORIGIN</th>\n",
       "      <th>DEST</th>\n",
       "      <th>DEP_TIME</th>\n",
       "      <th>ARR_DEL15</th>\n",
       "      <th>DISTANCE</th>\n",
       "    </tr>\n",
       "  </thead>\n",
       "  <tbody>\n",
       "    <tr>\n",
       "      <th>183878</th>\n",
       "      <td>10</td>\n",
       "      <td>4</td>\n",
       "      <td>DL</td>\n",
       "      <td>N954AT</td>\n",
       "      <td>2428</td>\n",
       "      <td>ATL</td>\n",
       "      <td>CLT</td>\n",
       "      <td>1257.0</td>\n",
       "      <td>0.0</td>\n",
       "      <td>226.0</td>\n",
       "    </tr>\n",
       "    <tr>\n",
       "      <th>446957</th>\n",
       "      <td>24</td>\n",
       "      <td>4</td>\n",
       "      <td>NK</td>\n",
       "      <td>N601NK</td>\n",
       "      <td>280</td>\n",
       "      <td>TPA</td>\n",
       "      <td>PIT</td>\n",
       "      <td>1638.0</td>\n",
       "      <td>0.0</td>\n",
       "      <td>873.0</td>\n",
       "    </tr>\n",
       "    <tr>\n",
       "      <th>52391</th>\n",
       "      <td>3</td>\n",
       "      <td>4</td>\n",
       "      <td>WN</td>\n",
       "      <td>N264LV</td>\n",
       "      <td>1859</td>\n",
       "      <td>LAS</td>\n",
       "      <td>DEN</td>\n",
       "      <td>1852.0</td>\n",
       "      <td>0.0</td>\n",
       "      <td>628.0</td>\n",
       "    </tr>\n",
       "    <tr>\n",
       "      <th>380221</th>\n",
       "      <td>21</td>\n",
       "      <td>1</td>\n",
       "      <td>MQ</td>\n",
       "      <td>N809AE</td>\n",
       "      <td>3504</td>\n",
       "      <td>DFW</td>\n",
       "      <td>AEX</td>\n",
       "      <td>1502.0</td>\n",
       "      <td>0.0</td>\n",
       "      <td>285.0</td>\n",
       "    </tr>\n",
       "    <tr>\n",
       "      <th>525412</th>\n",
       "      <td>28</td>\n",
       "      <td>1</td>\n",
       "      <td>UA</td>\n",
       "      <td>N68836</td>\n",
       "      <td>619</td>\n",
       "      <td>IAH</td>\n",
       "      <td>SEA</td>\n",
       "      <td>1819.0</td>\n",
       "      <td>0.0</td>\n",
       "      <td>1874.0</td>\n",
       "    </tr>\n",
       "  </tbody>\n",
       "</table>\n",
       "</div>"
      ],
      "text/plain": [
       "        DAY_OF_MONTH  DAY_OF_WEEK OP_CARRIER TAIL_NUM  OP_CARRIER_FL_NUM  \\\n",
       "183878            10            4         DL   N954AT               2428   \n",
       "446957            24            4         NK   N601NK                280   \n",
       "52391              3            4         WN   N264LV               1859   \n",
       "380221            21            1         MQ   N809AE               3504   \n",
       "525412            28            1         UA   N68836                619   \n",
       "\n",
       "       ORIGIN DEST  DEP_TIME  ARR_DEL15  DISTANCE  \n",
       "183878    ATL  CLT    1257.0        0.0     226.0  \n",
       "446957    TPA  PIT    1638.0        0.0     873.0  \n",
       "52391     LAS  DEN    1852.0        0.0     628.0  \n",
       "380221    DFW  AEX    1502.0        0.0     285.0  \n",
       "525412    IAH  SEA    1819.0        0.0    1874.0  "
      ]
     },
     "execution_count": 263,
     "metadata": {},
     "output_type": "execute_result"
    }
   ],
   "source": [
    "df = df.sample(frac=0.05, random_state = 0)\n",
    "df = df.drop(['Unnamed: 21', 'OP_UNIQUE_CARRIER', 'ORIGIN_AIRPORT_ID','ORIGIN_AIRPORT_SEQ_ID', 'DEST_AIRPORT_ID', 'DEST_AIRPORT_SEQ_ID', 'OP_CARRIER_AIRLINE_ID',\n",
    "             'DEP_TIME_BLK', 'DEP_DEL15', 'ARR_TIME', 'CANCELLED', 'DIVERTED'], axis=1)\n",
    "df = df.dropna()\n",
    "df.head()"
   ]
  },
  {
   "cell_type": "code",
   "execution_count": 264,
   "id": "7fb6b1d9",
   "metadata": {},
   "outputs": [
    {
     "data": {
      "text/plain": [
       "(28301, 10)"
      ]
     },
     "execution_count": 264,
     "metadata": {},
     "output_type": "execute_result"
    }
   ],
   "source": [
    "df.shape"
   ]
  },
  {
   "cell_type": "code",
   "execution_count": 265,
   "id": "5fb6558a",
   "metadata": {},
   "outputs": [
    {
     "data": {
      "text/plain": [
       "183878    1257\n",
       "446957    1638\n",
       "52391     1852\n",
       "380221    1502\n",
       "525412    1819\n",
       "          ... \n",
       "483419     723\n",
       "307299    1552\n",
       "350086    1501\n",
       "96014     1213\n",
       "173241    1929\n",
       "Name: DEP_TIME, Length: 28301, dtype: object"
      ]
     },
     "execution_count": 265,
     "metadata": {},
     "output_type": "execute_result"
    }
   ],
   "source": [
    "df['DEP_TIME'] = df['DEP_TIME'].astype(int)\n",
    "df['DEP_TIME'] = df['DEP_TIME'].astype(str)\n",
    "df['DEP_TIME']"
   ]
  },
  {
   "cell_type": "code",
   "execution_count": 266,
   "id": "ca365535",
   "metadata": {},
   "outputs": [],
   "source": [
    "def convertTime(x):\n",
    "    if x == None:\n",
    "        return\n",
    "    if len(str(x)) == 3:\n",
    "        return x[:1] + ':' + x[1:]\n",
    "    \n",
    "    if len(str(x)) == 4: \n",
    "        return x[:2] + ':' + x[2:]\n",
    "    "
   ]
  },
  {
   "cell_type": "code",
   "execution_count": 267,
   "id": "f5f7a001",
   "metadata": {},
   "outputs": [],
   "source": [
    "# df = df.dropna()"
   ]
  },
  {
   "cell_type": "code",
   "execution_count": 268,
   "id": "31fa6ee1",
   "metadata": {},
   "outputs": [],
   "source": [
    "def convertTwentyfourToZero(x):\n",
    "    if x == None:\n",
    "        return\n",
    "    if x.split(':')[0] == '24':\n",
    "        return '0' + x.split(':')[1]\n",
    "    return x"
   ]
  },
  {
   "cell_type": "code",
   "execution_count": 269,
   "id": "648cd2d0",
   "metadata": {},
   "outputs": [
    {
     "data": {
      "text/plain": [
       "183878    12:57\n",
       "446957    16:38\n",
       "52391     18:52\n",
       "380221    15:02\n",
       "525412    18:19\n",
       "          ...  \n",
       "483419     7:23\n",
       "307299    15:52\n",
       "350086    15:01\n",
       "96014     12:13\n",
       "173241    19:29\n",
       "Name: DEP_TIME, Length: 28301, dtype: object"
      ]
     },
     "execution_count": 269,
     "metadata": {},
     "output_type": "execute_result"
    }
   ],
   "source": [
    "df['DEP_TIME'] = df['DEP_TIME'].apply(lambda x: convertTime(x))\n",
    "df['DEP_TIME']\n",
    "df['DEP_TIME'] = df['DEP_TIME'].apply(lambda x: convertTwentyfourToZero(x))\n",
    "df['DEP_TIME']"
   ]
  },
  {
   "cell_type": "code",
   "execution_count": 270,
   "id": "4f2f2a59",
   "metadata": {},
   "outputs": [],
   "source": [
    "df['time'] = '2019-01-' + df['DAY_OF_MONTH'].astype(str) + '-' + df['DEP_TIME'].astype(str)"
   ]
  },
  {
   "cell_type": "code",
   "execution_count": 271,
   "id": "47d5018c",
   "metadata": {},
   "outputs": [
    {
     "data": {
      "text/plain": [
       "183878    2019-01-10-12:57\n",
       "446957    2019-01-24-16:38\n",
       "52391      2019-01-3-18:52\n",
       "380221    2019-01-21-15:02\n",
       "525412    2019-01-28-18:19\n",
       "                ...       \n",
       "483419     2019-01-26-7:23\n",
       "307299    2019-01-17-15:52\n",
       "350086    2019-01-19-15:01\n",
       "96014      2019-01-6-12:13\n",
       "173241    2019-01-10-19:29\n",
       "Name: time, Length: 28301, dtype: object"
      ]
     },
     "execution_count": 271,
     "metadata": {},
     "output_type": "execute_result"
    }
   ],
   "source": [
    "df['time']"
   ]
  },
  {
   "cell_type": "code",
   "execution_count": 272,
   "id": "a3ec8e6d",
   "metadata": {},
   "outputs": [],
   "source": [
    "df = df.dropna()"
   ]
  },
  {
   "cell_type": "code",
   "execution_count": null,
   "id": "3cdc87e3",
   "metadata": {},
   "outputs": [],
   "source": [
    "df['ts'] = pd.to_datetime(df.time)"
   ]
  },
  {
   "cell_type": "code",
   "execution_count": null,
   "id": "e51750af",
   "metadata": {},
   "outputs": [],
   "source": [
    "df"
   ]
  },
  {
   "cell_type": "code",
   "execution_count": null,
   "id": "c3cfeac5",
   "metadata": {},
   "outputs": [],
   "source": []
  }
 ],
 "metadata": {
  "kernelspec": {
   "display_name": "Python 3",
   "language": "python",
   "name": "python3"
  },
  "language_info": {
   "codemirror_mode": {
    "name": "ipython",
    "version": 3
   },
   "file_extension": ".py",
   "mimetype": "text/x-python",
   "name": "python",
   "nbconvert_exporter": "python",
   "pygments_lexer": "ipython3",
   "version": "3.8.3"
  }
 },
 "nbformat": 4,
 "nbformat_minor": 5
}
