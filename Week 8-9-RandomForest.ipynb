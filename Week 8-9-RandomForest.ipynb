{
 "cells": [
  {
   "cell_type": "code",
   "execution_count": 1,
   "metadata": {},
   "outputs": [],
   "source": [
    "# Imports\n",
    "import numpy as np\n",
    "import pandas as pd\n",
    "from sklearn.model_selection import cross_validate, GridSearchCV\n",
    "from sklearn.linear_model import LogisticRegression\n",
    "from sklearn.ensemble import RandomForestClassifier"
   ]
  },
  {
   "cell_type": "code",
   "execution_count": 2,
   "metadata": {},
   "outputs": [
    {
     "data": {
      "text/plain": [
       "(583985, 22)"
      ]
     },
     "execution_count": 2,
     "metadata": {},
     "output_type": "execute_result"
    }
   ],
   "source": [
    "# Loads the data into a dataframe\n",
    "df = pd.read_csv('./Jan_2019_ontime.csv')\n",
    "df2 = pd.read_csv('./Jan_2020_ontime.csv')\n",
    "df.append(df2)\n",
    "df.shape"
   ]
  },
  {
   "cell_type": "code",
   "execution_count": 3,
   "metadata": {},
   "outputs": [
    {
     "data": {
      "text/plain": [
       "0.0    460741\n",
       "1.0    105222\n",
       "Name: ARR_DEL15, dtype: int64"
      ]
     },
     "execution_count": 3,
     "metadata": {},
     "output_type": "execute_result"
    }
   ],
   "source": [
    "# Creates a standard baseline binary classifier accuracy by using all of our avaliable data\n",
    "df.ARR_DEL15.value_counts()"
   ]
  },
  {
   "cell_type": "code",
   "execution_count": 4,
   "metadata": {},
   "outputs": [
    {
     "name": "stdout",
     "output_type": "stream",
     "text": [
      "Baseline Accuracy:  0.8140832527921437\n",
      "Baseline Error:  0.18591674720785634\n"
     ]
    }
   ],
   "source": [
    "base_accuracy = 460741 / (460741 + 105222)\n",
    "base_error = 1 - base_accuracy\n",
    "print('Baseline Accuracy: ', base_accuracy)\n",
    "print('Baseline Error: ', base_error)"
   ]
  },
  {
   "cell_type": "code",
   "execution_count": 5,
   "metadata": {},
   "outputs": [
    {
     "data": {
      "text/html": [
       "<div>\n",
       "<style scoped>\n",
       "    .dataframe tbody tr th:only-of-type {\n",
       "        vertical-align: middle;\n",
       "    }\n",
       "\n",
       "    .dataframe tbody tr th {\n",
       "        vertical-align: top;\n",
       "    }\n",
       "\n",
       "    .dataframe thead th {\n",
       "        text-align: right;\n",
       "    }\n",
       "</style>\n",
       "<table border=\"1\" class=\"dataframe\">\n",
       "  <thead>\n",
       "    <tr style=\"text-align: right;\">\n",
       "      <th></th>\n",
       "      <th>DAY_OF_MONTH</th>\n",
       "      <th>DAY_OF_WEEK</th>\n",
       "      <th>OP_CARRIER</th>\n",
       "      <th>TAIL_NUM</th>\n",
       "      <th>OP_CARRIER_FL_NUM</th>\n",
       "      <th>ORIGIN</th>\n",
       "      <th>DEST</th>\n",
       "      <th>DEP_TIME</th>\n",
       "      <th>ARR_DEL15</th>\n",
       "      <th>DISTANCE</th>\n",
       "    </tr>\n",
       "  </thead>\n",
       "  <tbody>\n",
       "    <tr>\n",
       "      <th>199718</th>\n",
       "      <td>11</td>\n",
       "      <td>5</td>\n",
       "      <td>YX</td>\n",
       "      <td>N874RW</td>\n",
       "      <td>6041</td>\n",
       "      <td>IND</td>\n",
       "      <td>LGA</td>\n",
       "      <td>1457.0</td>\n",
       "      <td>0.0</td>\n",
       "      <td>660.0</td>\n",
       "    </tr>\n",
       "    <tr>\n",
       "      <th>232384</th>\n",
       "      <td>13</td>\n",
       "      <td>7</td>\n",
       "      <td>WN</td>\n",
       "      <td>N295WN</td>\n",
       "      <td>2780</td>\n",
       "      <td>DAL</td>\n",
       "      <td>MEM</td>\n",
       "      <td>1309.0</td>\n",
       "      <td>0.0</td>\n",
       "      <td>423.0</td>\n",
       "    </tr>\n",
       "    <tr>\n",
       "      <th>323267</th>\n",
       "      <td>17</td>\n",
       "      <td>4</td>\n",
       "      <td>EV</td>\n",
       "      <td>N860AS</td>\n",
       "      <td>3970</td>\n",
       "      <td>IAD</td>\n",
       "      <td>TYS</td>\n",
       "      <td>1707.0</td>\n",
       "      <td>0.0</td>\n",
       "      <td>420.0</td>\n",
       "    </tr>\n",
       "    <tr>\n",
       "      <th>465835</th>\n",
       "      <td>25</td>\n",
       "      <td>5</td>\n",
       "      <td>OH</td>\n",
       "      <td>N209PS</td>\n",
       "      <td>5312</td>\n",
       "      <td>PIA</td>\n",
       "      <td>CLT</td>\n",
       "      <td>1251.0</td>\n",
       "      <td>0.0</td>\n",
       "      <td>607.0</td>\n",
       "    </tr>\n",
       "    <tr>\n",
       "      <th>415768</th>\n",
       "      <td>23</td>\n",
       "      <td>3</td>\n",
       "      <td>YV</td>\n",
       "      <td>N931LR</td>\n",
       "      <td>5839</td>\n",
       "      <td>PHX</td>\n",
       "      <td>MRY</td>\n",
       "      <td>1434.0</td>\n",
       "      <td>0.0</td>\n",
       "      <td>598.0</td>\n",
       "    </tr>\n",
       "  </tbody>\n",
       "</table>\n",
       "</div>"
      ],
      "text/plain": [
       "        DAY_OF_MONTH  DAY_OF_WEEK OP_CARRIER TAIL_NUM  OP_CARRIER_FL_NUM  \\\n",
       "199718            11            5         YX   N874RW               6041   \n",
       "232384            13            7         WN   N295WN               2780   \n",
       "323267            17            4         EV   N860AS               3970   \n",
       "465835            25            5         OH   N209PS               5312   \n",
       "415768            23            3         YV   N931LR               5839   \n",
       "\n",
       "       ORIGIN DEST  DEP_TIME  ARR_DEL15  DISTANCE  \n",
       "199718    IND  LGA    1457.0        0.0     660.0  \n",
       "232384    DAL  MEM    1309.0        0.0     423.0  \n",
       "323267    IAD  TYS    1707.0        0.0     420.0  \n",
       "465835    PIA  CLT    1251.0        0.0     607.0  \n",
       "415768    PHX  MRY    1434.0        0.0     598.0  "
      ]
     },
     "execution_count": 5,
     "metadata": {},
     "output_type": "execute_result"
    }
   ],
   "source": [
    "# Chooses a random sample of 5% of the data to learn on\n",
    "df = df.sample(frac=0.05)\n",
    "df = df.drop(['Unnamed: 21', 'OP_UNIQUE_CARRIER', 'ORIGIN_AIRPORT_ID','ORIGIN_AIRPORT_SEQ_ID', 'DEST_AIRPORT_ID', 'DEST_AIRPORT_SEQ_ID', 'OP_CARRIER_AIRLINE_ID',\n",
    "             'DEP_TIME_BLK', 'DEP_DEL15', 'ARR_TIME', 'CANCELLED', 'DIVERTED'], axis=1)\n",
    "df = df.dropna()\n",
    "df.head()"
   ]
  },
  {
   "cell_type": "code",
   "execution_count": 6,
   "metadata": {},
   "outputs": [
    {
     "data": {
      "text/html": [
       "<div>\n",
       "<style scoped>\n",
       "    .dataframe tbody tr th:only-of-type {\n",
       "        vertical-align: middle;\n",
       "    }\n",
       "\n",
       "    .dataframe tbody tr th {\n",
       "        vertical-align: top;\n",
       "    }\n",
       "\n",
       "    .dataframe thead th {\n",
       "        text-align: right;\n",
       "    }\n",
       "</style>\n",
       "<table border=\"1\" class=\"dataframe\">\n",
       "  <thead>\n",
       "    <tr style=\"text-align: right;\">\n",
       "      <th></th>\n",
       "      <th>DAY_OF_MONTH</th>\n",
       "      <th>DAY_OF_WEEK</th>\n",
       "      <th>OP_CARRIER</th>\n",
       "      <th>TAIL_NUM</th>\n",
       "      <th>OP_CARRIER_FL_NUM</th>\n",
       "      <th>ORIGIN</th>\n",
       "      <th>DEST</th>\n",
       "      <th>DEP_TIME</th>\n",
       "      <th>DISTANCE</th>\n",
       "    </tr>\n",
       "  </thead>\n",
       "  <tbody>\n",
       "    <tr>\n",
       "      <th>199718</th>\n",
       "      <td>11</td>\n",
       "      <td>5</td>\n",
       "      <td>YX</td>\n",
       "      <td>N874RW</td>\n",
       "      <td>6041</td>\n",
       "      <td>IND</td>\n",
       "      <td>LGA</td>\n",
       "      <td>1457.0</td>\n",
       "      <td>660.0</td>\n",
       "    </tr>\n",
       "    <tr>\n",
       "      <th>232384</th>\n",
       "      <td>13</td>\n",
       "      <td>7</td>\n",
       "      <td>WN</td>\n",
       "      <td>N295WN</td>\n",
       "      <td>2780</td>\n",
       "      <td>DAL</td>\n",
       "      <td>MEM</td>\n",
       "      <td>1309.0</td>\n",
       "      <td>423.0</td>\n",
       "    </tr>\n",
       "    <tr>\n",
       "      <th>323267</th>\n",
       "      <td>17</td>\n",
       "      <td>4</td>\n",
       "      <td>EV</td>\n",
       "      <td>N860AS</td>\n",
       "      <td>3970</td>\n",
       "      <td>IAD</td>\n",
       "      <td>TYS</td>\n",
       "      <td>1707.0</td>\n",
       "      <td>420.0</td>\n",
       "    </tr>\n",
       "    <tr>\n",
       "      <th>465835</th>\n",
       "      <td>25</td>\n",
       "      <td>5</td>\n",
       "      <td>OH</td>\n",
       "      <td>N209PS</td>\n",
       "      <td>5312</td>\n",
       "      <td>PIA</td>\n",
       "      <td>CLT</td>\n",
       "      <td>1251.0</td>\n",
       "      <td>607.0</td>\n",
       "    </tr>\n",
       "    <tr>\n",
       "      <th>415768</th>\n",
       "      <td>23</td>\n",
       "      <td>3</td>\n",
       "      <td>YV</td>\n",
       "      <td>N931LR</td>\n",
       "      <td>5839</td>\n",
       "      <td>PHX</td>\n",
       "      <td>MRY</td>\n",
       "      <td>1434.0</td>\n",
       "      <td>598.0</td>\n",
       "    </tr>\n",
       "  </tbody>\n",
       "</table>\n",
       "</div>"
      ],
      "text/plain": [
       "        DAY_OF_MONTH DAY_OF_WEEK OP_CARRIER TAIL_NUM OP_CARRIER_FL_NUM ORIGIN  \\\n",
       "199718            11           5         YX   N874RW              6041    IND   \n",
       "232384            13           7         WN   N295WN              2780    DAL   \n",
       "323267            17           4         EV   N860AS              3970    IAD   \n",
       "465835            25           5         OH   N209PS              5312    PIA   \n",
       "415768            23           3         YV   N931LR              5839    PHX   \n",
       "\n",
       "       DEST  DEP_TIME  DISTANCE  \n",
       "199718  LGA    1457.0     660.0  \n",
       "232384  MEM    1309.0     423.0  \n",
       "323267  TYS    1707.0     420.0  \n",
       "465835  CLT    1251.0     607.0  \n",
       "415768  MRY    1434.0     598.0  "
      ]
     },
     "execution_count": 6,
     "metadata": {},
     "output_type": "execute_result"
    }
   ],
   "source": [
    "# Turns certain nominally numerical features to categorical ones\n",
    "X = df.drop('ARR_DEL15', axis=1)\n",
    "y = df.ARR_DEL15\n",
    "X.OP_CARRIER_FL_NUM = X.OP_CARRIER_FL_NUM.astype('category')\n",
    "X.DAY_OF_WEEK = X.DAY_OF_WEEK.astype('category')\n",
    "X.OP_CARRIER_FL_NUM = X.OP_CARRIER_FL_NUM.astype('category')\n",
    "X.head()"
   ]
  },
  {
   "cell_type": "code",
   "execution_count": 7,
   "metadata": {},
   "outputs": [
    {
     "data": {
      "text/html": [
       "<div>\n",
       "<style scoped>\n",
       "    .dataframe tbody tr th:only-of-type {\n",
       "        vertical-align: middle;\n",
       "    }\n",
       "\n",
       "    .dataframe tbody tr th {\n",
       "        vertical-align: top;\n",
       "    }\n",
       "\n",
       "    .dataframe thead th {\n",
       "        text-align: right;\n",
       "    }\n",
       "</style>\n",
       "<table border=\"1\" class=\"dataframe\">\n",
       "  <thead>\n",
       "    <tr style=\"text-align: right;\">\n",
       "      <th></th>\n",
       "      <th>DEP_TIME</th>\n",
       "      <th>DISTANCE</th>\n",
       "      <th>DAY_OF_MONTH</th>\n",
       "      <th>DAY_OF_WEEK_1</th>\n",
       "      <th>DAY_OF_WEEK_2</th>\n",
       "      <th>DAY_OF_WEEK_3</th>\n",
       "      <th>DAY_OF_WEEK_4</th>\n",
       "      <th>DAY_OF_WEEK_5</th>\n",
       "      <th>DAY_OF_WEEK_6</th>\n",
       "      <th>DAY_OF_WEEK_7</th>\n",
       "      <th>...</th>\n",
       "      <th>DEST_TYS</th>\n",
       "      <th>DEST_UIN</th>\n",
       "      <th>DEST_USA</th>\n",
       "      <th>DEST_VEL</th>\n",
       "      <th>DEST_VLD</th>\n",
       "      <th>DEST_VPS</th>\n",
       "      <th>DEST_WRG</th>\n",
       "      <th>DEST_XNA</th>\n",
       "      <th>DEST_YAK</th>\n",
       "      <th>DEST_YUM</th>\n",
       "    </tr>\n",
       "  </thead>\n",
       "  <tbody>\n",
       "    <tr>\n",
       "      <th>199718</th>\n",
       "      <td>0.256162</td>\n",
       "      <td>-0.245828</td>\n",
       "      <td>11</td>\n",
       "      <td>0</td>\n",
       "      <td>0</td>\n",
       "      <td>0</td>\n",
       "      <td>0</td>\n",
       "      <td>1</td>\n",
       "      <td>0</td>\n",
       "      <td>0</td>\n",
       "      <td>...</td>\n",
       "      <td>0</td>\n",
       "      <td>0</td>\n",
       "      <td>0</td>\n",
       "      <td>0</td>\n",
       "      <td>0</td>\n",
       "      <td>0</td>\n",
       "      <td>0</td>\n",
       "      <td>0</td>\n",
       "      <td>0</td>\n",
       "      <td>0</td>\n",
       "    </tr>\n",
       "    <tr>\n",
       "      <th>232384</th>\n",
       "      <td>-0.042268</td>\n",
       "      <td>-0.641699</td>\n",
       "      <td>13</td>\n",
       "      <td>0</td>\n",
       "      <td>0</td>\n",
       "      <td>0</td>\n",
       "      <td>0</td>\n",
       "      <td>0</td>\n",
       "      <td>0</td>\n",
       "      <td>1</td>\n",
       "      <td>...</td>\n",
       "      <td>0</td>\n",
       "      <td>0</td>\n",
       "      <td>0</td>\n",
       "      <td>0</td>\n",
       "      <td>0</td>\n",
       "      <td>0</td>\n",
       "      <td>0</td>\n",
       "      <td>0</td>\n",
       "      <td>0</td>\n",
       "      <td>0</td>\n",
       "    </tr>\n",
       "    <tr>\n",
       "      <th>323267</th>\n",
       "      <td>0.760265</td>\n",
       "      <td>-0.646710</td>\n",
       "      <td>17</td>\n",
       "      <td>0</td>\n",
       "      <td>0</td>\n",
       "      <td>0</td>\n",
       "      <td>1</td>\n",
       "      <td>0</td>\n",
       "      <td>0</td>\n",
       "      <td>0</td>\n",
       "      <td>...</td>\n",
       "      <td>1</td>\n",
       "      <td>0</td>\n",
       "      <td>0</td>\n",
       "      <td>0</td>\n",
       "      <td>0</td>\n",
       "      <td>0</td>\n",
       "      <td>0</td>\n",
       "      <td>0</td>\n",
       "      <td>0</td>\n",
       "      <td>0</td>\n",
       "    </tr>\n",
       "    <tr>\n",
       "      <th>465835</th>\n",
       "      <td>-0.159220</td>\n",
       "      <td>-0.334356</td>\n",
       "      <td>25</td>\n",
       "      <td>0</td>\n",
       "      <td>0</td>\n",
       "      <td>0</td>\n",
       "      <td>0</td>\n",
       "      <td>1</td>\n",
       "      <td>0</td>\n",
       "      <td>0</td>\n",
       "      <td>...</td>\n",
       "      <td>0</td>\n",
       "      <td>0</td>\n",
       "      <td>0</td>\n",
       "      <td>0</td>\n",
       "      <td>0</td>\n",
       "      <td>0</td>\n",
       "      <td>0</td>\n",
       "      <td>0</td>\n",
       "      <td>0</td>\n",
       "      <td>0</td>\n",
       "    </tr>\n",
       "    <tr>\n",
       "      <th>415768</th>\n",
       "      <td>0.209784</td>\n",
       "      <td>-0.349389</td>\n",
       "      <td>23</td>\n",
       "      <td>0</td>\n",
       "      <td>0</td>\n",
       "      <td>1</td>\n",
       "      <td>0</td>\n",
       "      <td>0</td>\n",
       "      <td>0</td>\n",
       "      <td>0</td>\n",
       "      <td>...</td>\n",
       "      <td>0</td>\n",
       "      <td>0</td>\n",
       "      <td>0</td>\n",
       "      <td>0</td>\n",
       "      <td>0</td>\n",
       "      <td>0</td>\n",
       "      <td>0</td>\n",
       "      <td>0</td>\n",
       "      <td>0</td>\n",
       "      <td>0</td>\n",
       "    </tr>\n",
       "  </tbody>\n",
       "</table>\n",
       "<p>5 rows × 11627 columns</p>\n",
       "</div>"
      ],
      "text/plain": [
       "        DEP_TIME  DISTANCE  DAY_OF_MONTH  DAY_OF_WEEK_1  DAY_OF_WEEK_2  \\\n",
       "199718  0.256162 -0.245828            11              0              0   \n",
       "232384 -0.042268 -0.641699            13              0              0   \n",
       "323267  0.760265 -0.646710            17              0              0   \n",
       "465835 -0.159220 -0.334356            25              0              0   \n",
       "415768  0.209784 -0.349389            23              0              0   \n",
       "\n",
       "        DAY_OF_WEEK_3  DAY_OF_WEEK_4  DAY_OF_WEEK_5  DAY_OF_WEEK_6  \\\n",
       "199718              0              0              1              0   \n",
       "232384              0              0              0              0   \n",
       "323267              0              1              0              0   \n",
       "465835              0              0              1              0   \n",
       "415768              1              0              0              0   \n",
       "\n",
       "        DAY_OF_WEEK_7  ...  DEST_TYS  DEST_UIN  DEST_USA  DEST_VEL  DEST_VLD  \\\n",
       "199718              0  ...         0         0         0         0         0   \n",
       "232384              1  ...         0         0         0         0         0   \n",
       "323267              0  ...         1         0         0         0         0   \n",
       "465835              0  ...         0         0         0         0         0   \n",
       "415768              0  ...         0         0         0         0         0   \n",
       "\n",
       "        DEST_VPS  DEST_WRG  DEST_XNA  DEST_YAK  DEST_YUM  \n",
       "199718         0         0         0         0         0  \n",
       "232384         0         0         0         0         0  \n",
       "323267         0         0         0         0         0  \n",
       "465835         0         0         0         0         0  \n",
       "415768         0         0         0         0         0  \n",
       "\n",
       "[5 rows x 11627 columns]"
      ]
     },
     "execution_count": 7,
     "metadata": {},
     "output_type": "execute_result"
    }
   ],
   "source": [
    "# One-hot-encodes categorical features and standardizes numerical features\n",
    "X_num = X[['DEP_TIME', 'DISTANCE']]\n",
    "X_num = (X_num - X_num.mean())/X_num.std()\n",
    "X_cat = X.drop(['DEP_TIME', 'DISTANCE'], axis=1)\n",
    "X_cat = pd.get_dummies(X_cat)\n",
    "X = X_num.join(X_cat)\n",
    "X.head()"
   ]
  },
  {
   "cell_type": "code",
   "execution_count": 8,
   "metadata": {},
   "outputs": [],
   "source": [
    "# Creates a logistic regression on the sample and cross-validates categorical features\n",
    "n_estimators = 100\n",
    "max_depth = 5\n",
    "rf = RandomForestClassifier(n_estimators=n_estimators, max_depth=max_depth)\n",
    "results = cross_validate(rf, X, y, return_train_score=True, n_jobs=-1, error_score='raise')"
   ]
  },
  {
   "cell_type": "code",
   "execution_count": 9,
   "metadata": {},
   "outputs": [
    {
     "name": "stdout",
     "output_type": "stream",
     "text": [
      "Random Forest w/ Cross-Valdation, n_estimators = 100, max_depth = 5:\n",
      "Training accuracy: 0.8147336420719027\n",
      "Validation accuracy: 0.8147336423752751\n"
     ]
    }
   ],
   "source": [
    "#Overfitting is impossible, so training and validation scores are nearly identical\n",
    "randomforest_training_accuracy = results['train_score'].mean()\n",
    "randomforest_validation_accuracy = results['test_score'].mean()\n",
    "print(f\"Random Forest w/ Cross-Valdation, n_estimators = {n_estimators}, max_depth = {max_depth}:\")\n",
    "print(\"Training accuracy:\", randomforest_training_accuracy)\n",
    "print(\"Validation accuracy:\", randomforest_validation_accuracy)"
   ]
  },
  {
   "cell_type": "code",
   "execution_count": 12,
   "metadata": {},
   "outputs": [],
   "source": [
    "rf.fit(X, y)\n",
    "fI = pd.Series(rf.feature_importances_,index=X.columns)"
   ]
  },
  {
   "cell_type": "code",
   "execution_count": 15,
   "metadata": {},
   "outputs": [
    {
     "data": {
      "text/plain": [
       "<AxesSubplot:>"
      ]
     },
     "execution_count": 15,
     "metadata": {},
     "output_type": "execute_result"
    },
    {
     "data": {
      "image/png": "[encoded data removed]",
      "text/plain": [
       "<Figure size 432x288 with 1 Axes>"
      ]
     },
     "metadata": {
      "needs_background": "light"
     },
     "output_type": "display_data"
    }
   ],
   "source": [
    "fI.iloc[:20].sort_values().plot.barh()"
   ]
  },
  {
   "cell_type": "code",
   "execution_count": 16,
   "metadata": {},
   "outputs": [
    {
     "data": {
      "text/plain": [
       "0.13955104599108556"
      ]
     },
     "execution_count": 16,
     "metadata": {},
     "output_type": "execute_result"
    }
   ],
   "source": [
    "fI.iloc[:20].sum()"
   ]
  },
  {
   "cell_type": "code",
   "execution_count": 27,
   "metadata": {},
   "outputs": [
    {
     "data": {
      "text/plain": [
       "WN    865\n",
       "OO    698\n",
       "AA    697\n",
       "DL    475\n",
       "UA    428\n",
       "B6    297\n",
       "MQ    292\n",
       "YX    269\n",
       "9E    195\n",
       "AS    184\n",
       "OH    165\n",
       "YV    163\n",
       "EV    149\n",
       "F9    118\n",
       "NK    113\n",
       "G4     86\n",
       "HA     47\n",
       "Name: OP_CARRIER, dtype: int64"
      ]
     },
     "execution_count": 27,
     "metadata": {},
     "output_type": "execute_result"
    }
   ],
   "source": [
    "delays = df[df.ARR_DEL15 == 1].OP_CARRIER.value_counts()\n",
    "delays"
   ]
  },
  {
   "cell_type": "code",
   "execution_count": 28,
   "metadata": {},
   "outputs": [
    {
     "data": {
      "text/plain": [
       "WN    5490\n",
       "AA    3825\n",
       "DL    3569\n",
       "OO    3093\n",
       "UA    2313\n",
       "YX    1194\n",
       "MQ    1148\n",
       "B6    1140\n",
       "OH    1108\n",
       "AS    1026\n",
       "9E    1011\n",
       "YV     836\n",
       "NK     748\n",
       "EV     583\n",
       "F9     495\n",
       "G4     356\n",
       "HA     354\n",
       "Name: OP_CARRIER, dtype: int64"
      ]
     },
     "execution_count": 28,
     "metadata": {},
     "output_type": "execute_result"
    }
   ],
   "source": [
    "flights = df.OP_CARRIER.value_counts()\n",
    "flights"
   ]
  },
  {
   "cell_type": "code",
   "execution_count": 29,
   "metadata": {},
   "outputs": [
    {
     "data": {
      "text/plain": [
       "B6    0.260526\n",
       "EV    0.255575\n",
       "MQ    0.254355\n",
       "G4    0.241573\n",
       "F9    0.238384\n",
       "OO    0.225671\n",
       "YX    0.225293\n",
       "YV    0.194976\n",
       "9E    0.192878\n",
       "UA    0.185041\n",
       "AA    0.182222\n",
       "AS    0.179337\n",
       "WN    0.157559\n",
       "NK    0.151070\n",
       "OH    0.148917\n",
       "DL    0.133091\n",
       "HA    0.132768\n",
       "Name: OP_CARRIER, dtype: float64"
      ]
     },
     "execution_count": 29,
     "metadata": {},
     "output_type": "execute_result"
    }
   ],
   "source": [
    "(delays/flights).sort_values(ascending=False)"
   ]
  },
  {
   "cell_type": "code",
   "execution_count": null,
   "metadata": {},
   "outputs": [],
   "source": []
  }
 ],
 "metadata": {
  "kernelspec": {
   "display_name": "Python 3",
   "language": "python",
   "name": "python3"
  },
  "language_info": {
   "codemirror_mode": {
    "name": "ipython",
    "version": 3
   },
   "file_extension": ".py",
   "mimetype": "text/x-python",
   "name": "python",
   "nbconvert_exporter": "python",
   "pygments_lexer": "ipython3",
   "version": "3.8.5"
  }
 },
 "nbformat": 4,
 "nbformat_minor": 4
}
